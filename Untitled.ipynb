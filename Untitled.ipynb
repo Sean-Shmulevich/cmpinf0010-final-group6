{
 "cells": [
  {
   "cell_type": "code",
   "execution_count": 2,
   "metadata": {},
   "outputs": [],
   "source": [
    "import pandas as pd\n",
    "import numpy as np\n",
    "import ssl\n",
    "\n",
    "ssl._create_default_https_context = ssl._create_unverified_context"
   ]
  },
  {
   "cell_type": "markdown",
   "metadata": {},
   "source": [
    "To compare the busses on_time_percent for each neighborhood, I found the mean OTP for each bus route, and then labeled the bus routes by neighborhood. The code I used was this."
   ]
  },
  {
   "cell_type": "code",
   "execution_count": 8,
   "metadata": {},
   "outputs": [
    {
     "data": {
      "text/plain": [
       "Neighborhood\n",
       "Robinson            0.443312\n",
       "Allegheny Valley    0.452563\n",
       "Mount Royal         0.455352\n",
       "Holiday Park        0.463355\n",
       "McCandless          0.466937\n",
       "                      ...   \n",
       "Mount Washington    0.776707\n",
       "Carnegie            0.782422\n",
       "Chartiers           0.784923\n",
       "South Hills         0.843636\n",
       "Castle Shannon      0.860727\n",
       "Name: on_time_percent, Length: 78, dtype: float64"
      ]
     },
     "execution_count": 8,
     "metadata": {},
     "output_type": "execute_result"
    }
   ],
   "source": [
    "pgh_bus_data = pd.read_csv(\"https://data.wprdc.org/datastore/dump/00eb9600-69b5-4f11-b20a-8c8ddd8cfe7a\",\n",
    "                           index_col=\"route\", \n",
    "                           parse_dates=True)\n",
    "pgh_bus_data.groupby('route_full_name')['on_time_percent'].mean().sort_values().to_csv('meanOTPbyRoute.csv', header='False') #Writes the Mean OTP per route to a csv file\n",
    "#Labeled bus routes by neighborhood manually. #ome of these are approximations, since bus routes have a lot of stops.\n",
    "pgh_bus_data = pd.read_csv(\"manuallySorted.csv\", index_col=\"Neighborhood\")\n",
    "pgh_bus_data.groupby('Neighborhood')['on_time_percent'].mean().sort_values().to_csv('meanOTPbyNeighborhood.csv', header='False') #We find the mean again because some neighborhoods have multiple routes\n",
    "pgh_bus_data.groupby('Neighborhood')['on_time_percent'].mean().sort_values()"
   ]
  },
  {
   "cell_type": "code",
   "execution_count": null,
   "metadata": {},
   "outputs": [],
   "source": []
  }
 ],
 "metadata": {
  "kernelspec": {
   "display_name": "Python 3",
   "language": "python",
   "name": "python3"
  },
  "language_info": {
   "codemirror_mode": {
    "name": "ipython",
    "version": 3
   },
   "file_extension": ".py",
   "mimetype": "text/x-python",
   "name": "python",
   "nbconvert_exporter": "python",
   "pygments_lexer": "ipython3",
   "version": "3.6.7"
  }
 },
 "nbformat": 4,
 "nbformat_minor": 4
}
